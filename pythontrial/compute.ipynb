{
 "cells": [
  {
   "cell_type": "code",
   "execution_count": 6,
   "metadata": {},
   "outputs": [],
   "source": [
    "import json"
   ]
  },
  {
   "cell_type": "raw",
   "metadata": {
    "vscode": {
     "languageId": "raw"
    }
   },
   "source": [
    "FUNCTION checkProgramEligibility(studentElectives, programRequirements):\n",
    "    # Initialize eligibility status\n",
    "    isEligible = false\n",
    "    \n",
    "    # Get program's elective requirements\n",
    "    programElectives = programRequirements[\"elective subjects\"]\n",
    "    \n",
    "    # If program is at Obuasi campus, no elective requirements\n",
    "    IF programRequirements[\"campus\"] == \"Obuasi Campus\":\n",
    "        RETURN true\n",
    "    \n",
    "    # Check if program has main subjects requirement\n",
    "    IF programElectives[\"main\"] != null:\n",
    "        # Check if student has all required main subjects\n",
    "        IF studentElectives contains ALL subjects in programElectives[\"main\"]:\n",
    "            # If program has tracks, check if student has at least one subject from any track\n",
    "            IF programElectives[\"tracks\"] is not empty:\n",
    "                FOR EACH track IN programElectives[\"tracks\"]:\n",
    "                    IF studentElectives contains ANY subject from track:\n",
    "                        isEligible = true\n",
    "                        BREAK\n",
    "                        \n",
    "            ELSE:\n",
    "                # If no tracks, just having main subjects is sufficient\n",
    "                isEligible = true\n",
    "    ELSE:\n",
    "        # If no main subjects required, check tracks\n",
    "        FOR EACH track IN programElectives[\"tracks\"]:\n",
    "            # Check if student has all subjects from at least one complete track\n",
    "            IF studentElectives contains ALL subjects from ANY track:\n",
    "                isEligible = true\n",
    "                BREAK\n",
    "    \n",
    "    RETURN isEligible\n",
    "\n",
    "FUNCTION findEligiblePrograms(studentElectives, allPrograms):\n",
    "    eligiblePrograms = []\n",
    "    \n",
    "    FOR EACH program IN allPrograms:\n",
    "        IF checkProgramEligibility(studentElectives, program):\n",
    "            eligiblePrograms.append(program)\n",
    "    \n",
    "    RETURN eligiblePrograms\n",
    "\n",
    "# Example usage:\n",
    "studentElectives = [\"Elective Mathematics\", \"Physics\", \"Chemistry\", \"Biology\"]\n",
    "allPrograms = loadProgramsFromJSON(\"programdata.json\")\n",
    "eligiblePrograms = findEligiblePrograms(studentElectives, allPrograms)"
   ]
  },
  {
   "cell_type": "code",
   "execution_count": 8,
   "metadata": {},
   "outputs": [
    {
     "ename": "NameError",
     "evalue": "name 'opt' is not defined",
     "output_type": "error",
     "traceback": [
      "\u001b[1;31m---------------------------------------------------------------------------\u001b[0m",
      "\u001b[1;31mNameError\u001b[0m                                 Traceback (most recent call last)",
      "Cell \u001b[1;32mIn[8], line 9\u001b[0m\n\u001b[0;32m      3\u001b[0m     program_data \u001b[38;5;241m=\u001b[39m json\u001b[38;5;241m.\u001b[39mload(f)\n\u001b[0;32m      5\u001b[0m student_electives \u001b[38;5;241m=\u001b[39m [\n\u001b[0;32m      6\u001b[0m     \u001b[38;5;124m\"\u001b[39m\u001b[38;5;124mPhysics\u001b[39m\u001b[38;5;124m\"\u001b[39m, \u001b[38;5;124m\"\u001b[39m\u001b[38;5;124mChemistry\u001b[39m\u001b[38;5;124m\"\u001b[39m, \u001b[38;5;124m\"\u001b[39m\u001b[38;5;124mElective Mathematics\u001b[39m\u001b[38;5;124m\"\u001b[39m, \u001b[38;5;124m\"\u001b[39m\u001b[38;5;124mBiology\u001b[39m\u001b[38;5;124m\"\u001b[39m\n\u001b[0;32m      7\u001b[0m ]\n\u001b[1;32m----> 9\u001b[0m matches \u001b[38;5;241m=\u001b[39m filter_programs_by_electives(student_electives, program_data)\n\u001b[0;32m     11\u001b[0m \u001b[38;5;66;03m# Display results\u001b[39;00m\n\u001b[0;32m     12\u001b[0m \u001b[38;5;28;01mfor\u001b[39;00m program \u001b[38;5;129;01min\u001b[39;00m matches:\n",
      "Cell \u001b[1;32mIn[7], line 33\u001b[0m, in \u001b[0;36mfilter_programs_by_electives\u001b[1;34m(student_electives, programs)\u001b[0m\n\u001b[0;32m     30\u001b[0m \u001b[38;5;28;01melse\u001b[39;00m:\n\u001b[0;32m     31\u001b[0m     \u001b[38;5;66;03m# Handle specific electives or \"A or B\" type logic\u001b[39;00m\n\u001b[0;32m     32\u001b[0m     conditions \u001b[38;5;241m=\u001b[39m [cond\u001b[38;5;241m.\u001b[39mstrip() \u001b[38;5;28;01mfor\u001b[39;00m cond \u001b[38;5;129;01min\u001b[39;00m elective_text_lower\u001b[38;5;241m.\u001b[39msplit(\u001b[38;5;124m\"\u001b[39m\u001b[38;5;124m, and \u001b[39m\u001b[38;5;124m\"\u001b[39m)]\n\u001b[1;32m---> 33\u001b[0m     qualifies \u001b[38;5;241m=\u001b[39m \u001b[38;5;28mall\u001b[39m(\n\u001b[0;32m     34\u001b[0m         \u001b[38;5;28many\u001b[39m(opt\u001b[38;5;241m.\u001b[39mstrip() \u001b[38;5;129;01min\u001b[39;00m subject \u001b[38;5;28;01mfor\u001b[39;00m subject \u001b[38;5;129;01min\u001b[39;00m student_electives_lower)\n\u001b[0;32m     35\u001b[0m         \u001b[38;5;28;01mif\u001b[39;00m \u001b[38;5;124m\"\u001b[39m\u001b[38;5;124m or \u001b[39m\u001b[38;5;124m\"\u001b[39m \u001b[38;5;129;01mnot\u001b[39;00m \u001b[38;5;129;01min\u001b[39;00m cond \u001b[38;5;28;01melse\u001b[39;00m\n\u001b[0;32m     36\u001b[0m         \u001b[38;5;28many\u001b[39m(\n\u001b[0;32m     37\u001b[0m             \u001b[38;5;28many\u001b[39m(opt\u001b[38;5;241m.\u001b[39mstrip() \u001b[38;5;129;01min\u001b[39;00m subject \u001b[38;5;28;01mfor\u001b[39;00m subject \u001b[38;5;129;01min\u001b[39;00m student_electives_lower)\n\u001b[0;32m     38\u001b[0m             \u001b[38;5;28;01mfor\u001b[39;00m opt \u001b[38;5;129;01min\u001b[39;00m cond\u001b[38;5;241m.\u001b[39msplit(\u001b[38;5;124m\"\u001b[39m\u001b[38;5;124m or \u001b[39m\u001b[38;5;124m\"\u001b[39m)\n\u001b[0;32m     39\u001b[0m         )\n\u001b[0;32m     40\u001b[0m         \u001b[38;5;28;01mfor\u001b[39;00m cond \u001b[38;5;129;01min\u001b[39;00m conditions\n\u001b[0;32m     41\u001b[0m     )\n\u001b[0;32m     43\u001b[0m \u001b[38;5;28;01mif\u001b[39;00m qualifies:\n\u001b[0;32m     44\u001b[0m     matched_programs\u001b[38;5;241m.\u001b[39mappend({\n\u001b[0;32m     45\u001b[0m         \u001b[38;5;124m\"\u001b[39m\u001b[38;5;124mprogram\u001b[39m\u001b[38;5;124m\"\u001b[39m: program[\u001b[38;5;124m\"\u001b[39m\u001b[38;5;124mprogram\u001b[39m\u001b[38;5;124m\"\u001b[39m],\n\u001b[0;32m     46\u001b[0m         \u001b[38;5;124m\"\u001b[39m\u001b[38;5;124mcollege\u001b[39m\u001b[38;5;124m\"\u001b[39m: program[\u001b[38;5;124m\"\u001b[39m\u001b[38;5;124mcollege\u001b[39m\u001b[38;5;124m\"\u001b[39m],\n\u001b[0;32m     47\u001b[0m         \u001b[38;5;124m\"\u001b[39m\u001b[38;5;124mrequired_electives\u001b[39m\u001b[38;5;124m\"\u001b[39m: program[\u001b[38;5;124m\"\u001b[39m\u001b[38;5;124melective subjects\u001b[39m\u001b[38;5;124m\"\u001b[39m]\n\u001b[0;32m     48\u001b[0m     })\n",
      "Cell \u001b[1;32mIn[7], line 34\u001b[0m, in \u001b[0;36m<genexpr>\u001b[1;34m(.0)\u001b[0m\n\u001b[0;32m     30\u001b[0m \u001b[38;5;28;01melse\u001b[39;00m:\n\u001b[0;32m     31\u001b[0m     \u001b[38;5;66;03m# Handle specific electives or \"A or B\" type logic\u001b[39;00m\n\u001b[0;32m     32\u001b[0m     conditions \u001b[38;5;241m=\u001b[39m [cond\u001b[38;5;241m.\u001b[39mstrip() \u001b[38;5;28;01mfor\u001b[39;00m cond \u001b[38;5;129;01min\u001b[39;00m elective_text_lower\u001b[38;5;241m.\u001b[39msplit(\u001b[38;5;124m\"\u001b[39m\u001b[38;5;124m, and \u001b[39m\u001b[38;5;124m\"\u001b[39m)]\n\u001b[0;32m     33\u001b[0m     qualifies \u001b[38;5;241m=\u001b[39m \u001b[38;5;28mall\u001b[39m(\n\u001b[1;32m---> 34\u001b[0m         \u001b[38;5;28many\u001b[39m(opt\u001b[38;5;241m.\u001b[39mstrip() \u001b[38;5;129;01min\u001b[39;00m subject \u001b[38;5;28;01mfor\u001b[39;00m subject \u001b[38;5;129;01min\u001b[39;00m student_electives_lower)\n\u001b[0;32m     35\u001b[0m         \u001b[38;5;28;01mif\u001b[39;00m \u001b[38;5;124m\"\u001b[39m\u001b[38;5;124m or \u001b[39m\u001b[38;5;124m\"\u001b[39m \u001b[38;5;129;01mnot\u001b[39;00m \u001b[38;5;129;01min\u001b[39;00m cond \u001b[38;5;28;01melse\u001b[39;00m\n\u001b[0;32m     36\u001b[0m         \u001b[38;5;28many\u001b[39m(\n\u001b[0;32m     37\u001b[0m             \u001b[38;5;28many\u001b[39m(opt\u001b[38;5;241m.\u001b[39mstrip() \u001b[38;5;129;01min\u001b[39;00m subject \u001b[38;5;28;01mfor\u001b[39;00m subject \u001b[38;5;129;01min\u001b[39;00m student_electives_lower)\n\u001b[0;32m     38\u001b[0m             \u001b[38;5;28;01mfor\u001b[39;00m opt \u001b[38;5;129;01min\u001b[39;00m cond\u001b[38;5;241m.\u001b[39msplit(\u001b[38;5;124m\"\u001b[39m\u001b[38;5;124m or \u001b[39m\u001b[38;5;124m\"\u001b[39m)\n\u001b[0;32m     39\u001b[0m         )\n\u001b[0;32m     40\u001b[0m         \u001b[38;5;28;01mfor\u001b[39;00m cond \u001b[38;5;129;01min\u001b[39;00m conditions\n\u001b[0;32m     41\u001b[0m     )\n\u001b[0;32m     43\u001b[0m \u001b[38;5;28;01mif\u001b[39;00m qualifies:\n\u001b[0;32m     44\u001b[0m     matched_programs\u001b[38;5;241m.\u001b[39mappend({\n\u001b[0;32m     45\u001b[0m         \u001b[38;5;124m\"\u001b[39m\u001b[38;5;124mprogram\u001b[39m\u001b[38;5;124m\"\u001b[39m: program[\u001b[38;5;124m\"\u001b[39m\u001b[38;5;124mprogram\u001b[39m\u001b[38;5;124m\"\u001b[39m],\n\u001b[0;32m     46\u001b[0m         \u001b[38;5;124m\"\u001b[39m\u001b[38;5;124mcollege\u001b[39m\u001b[38;5;124m\"\u001b[39m: program[\u001b[38;5;124m\"\u001b[39m\u001b[38;5;124mcollege\u001b[39m\u001b[38;5;124m\"\u001b[39m],\n\u001b[0;32m     47\u001b[0m         \u001b[38;5;124m\"\u001b[39m\u001b[38;5;124mrequired_electives\u001b[39m\u001b[38;5;124m\"\u001b[39m: program[\u001b[38;5;124m\"\u001b[39m\u001b[38;5;124melective subjects\u001b[39m\u001b[38;5;124m\"\u001b[39m]\n\u001b[0;32m     48\u001b[0m     })\n",
      "Cell \u001b[1;32mIn[7], line 34\u001b[0m, in \u001b[0;36m<genexpr>\u001b[1;34m(.0)\u001b[0m\n\u001b[0;32m     30\u001b[0m \u001b[38;5;28;01melse\u001b[39;00m:\n\u001b[0;32m     31\u001b[0m     \u001b[38;5;66;03m# Handle specific electives or \"A or B\" type logic\u001b[39;00m\n\u001b[0;32m     32\u001b[0m     conditions \u001b[38;5;241m=\u001b[39m [cond\u001b[38;5;241m.\u001b[39mstrip() \u001b[38;5;28;01mfor\u001b[39;00m cond \u001b[38;5;129;01min\u001b[39;00m elective_text_lower\u001b[38;5;241m.\u001b[39msplit(\u001b[38;5;124m\"\u001b[39m\u001b[38;5;124m, and \u001b[39m\u001b[38;5;124m\"\u001b[39m)]\n\u001b[0;32m     33\u001b[0m     qualifies \u001b[38;5;241m=\u001b[39m \u001b[38;5;28mall\u001b[39m(\n\u001b[1;32m---> 34\u001b[0m         \u001b[38;5;28many\u001b[39m(opt\u001b[38;5;241m.\u001b[39mstrip() \u001b[38;5;129;01min\u001b[39;00m subject \u001b[38;5;28;01mfor\u001b[39;00m subject \u001b[38;5;129;01min\u001b[39;00m student_electives_lower)\n\u001b[0;32m     35\u001b[0m         \u001b[38;5;28;01mif\u001b[39;00m \u001b[38;5;124m\"\u001b[39m\u001b[38;5;124m or \u001b[39m\u001b[38;5;124m\"\u001b[39m \u001b[38;5;129;01mnot\u001b[39;00m \u001b[38;5;129;01min\u001b[39;00m cond \u001b[38;5;28;01melse\u001b[39;00m\n\u001b[0;32m     36\u001b[0m         \u001b[38;5;28many\u001b[39m(\n\u001b[0;32m     37\u001b[0m             \u001b[38;5;28many\u001b[39m(opt\u001b[38;5;241m.\u001b[39mstrip() \u001b[38;5;129;01min\u001b[39;00m subject \u001b[38;5;28;01mfor\u001b[39;00m subject \u001b[38;5;129;01min\u001b[39;00m student_electives_lower)\n\u001b[0;32m     38\u001b[0m             \u001b[38;5;28;01mfor\u001b[39;00m opt \u001b[38;5;129;01min\u001b[39;00m cond\u001b[38;5;241m.\u001b[39msplit(\u001b[38;5;124m\"\u001b[39m\u001b[38;5;124m or \u001b[39m\u001b[38;5;124m\"\u001b[39m)\n\u001b[0;32m     39\u001b[0m         )\n\u001b[0;32m     40\u001b[0m         \u001b[38;5;28;01mfor\u001b[39;00m cond \u001b[38;5;129;01min\u001b[39;00m conditions\n\u001b[0;32m     41\u001b[0m     )\n\u001b[0;32m     43\u001b[0m \u001b[38;5;28;01mif\u001b[39;00m qualifies:\n\u001b[0;32m     44\u001b[0m     matched_programs\u001b[38;5;241m.\u001b[39mappend({\n\u001b[0;32m     45\u001b[0m         \u001b[38;5;124m\"\u001b[39m\u001b[38;5;124mprogram\u001b[39m\u001b[38;5;124m\"\u001b[39m: program[\u001b[38;5;124m\"\u001b[39m\u001b[38;5;124mprogram\u001b[39m\u001b[38;5;124m\"\u001b[39m],\n\u001b[0;32m     46\u001b[0m         \u001b[38;5;124m\"\u001b[39m\u001b[38;5;124mcollege\u001b[39m\u001b[38;5;124m\"\u001b[39m: program[\u001b[38;5;124m\"\u001b[39m\u001b[38;5;124mcollege\u001b[39m\u001b[38;5;124m\"\u001b[39m],\n\u001b[0;32m     47\u001b[0m         \u001b[38;5;124m\"\u001b[39m\u001b[38;5;124mrequired_electives\u001b[39m\u001b[38;5;124m\"\u001b[39m: program[\u001b[38;5;124m\"\u001b[39m\u001b[38;5;124melective subjects\u001b[39m\u001b[38;5;124m\"\u001b[39m]\n\u001b[0;32m     48\u001b[0m     })\n",
      "\u001b[1;31mNameError\u001b[0m: name 'opt' is not defined"
     ]
    }
   ],
   "source": [
    "# Example usage:\n",
    "with open(\"../data/programdata.json\", \"r\", encoding=\"utf-8\") as f:\n",
    "    program_data = json.load(f)\n",
    "\n",
    "student_electives = [\n",
    "    \"Physics\", \"Chemistry\", \"Elective Mathematics\", \"Biology\"\n",
    "]\n",
    "\n",
    "matches = filter_programs_by_electives(student_electives, program_data)\n",
    "\n",
    "# Display results\n",
    "for program in matches:\n",
    "    print(f\"{program['program']} ({program['college']})\")\n",
    "    print(\"Requires:\", program[\"required_electives\"])\n",
    "    print(\"-\" * 40)"
   ]
  },
  {
   "cell_type": "code",
   "execution_count": null,
   "metadata": {},
   "outputs": [],
   "source": []
  }
 ],
 "metadata": {
  "kernelspec": {
   "display_name": "base",
   "language": "python",
   "name": "python3"
  },
  "language_info": {
   "codemirror_mode": {
    "name": "ipython",
    "version": 3
   },
   "file_extension": ".py",
   "mimetype": "text/x-python",
   "name": "python",
   "nbconvert_exporter": "python",
   "pygments_lexer": "ipython3",
   "version": "3.11.7"
  }
 },
 "nbformat": 4,
 "nbformat_minor": 2
}
