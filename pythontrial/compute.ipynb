{
 "cells": [
  {
   "cell_type": "code",
   "execution_count": 2,
   "metadata": {},
   "outputs": [],
   "source": [
    "import json"
   ]
  },
  {
   "cell_type": "code",
   "execution_count": null,
   "metadata": {},
   "outputs": [],
   "source": [
    "def filter_programs_by_electives(student_electives, programs):\n",
    "    matched_programs = []\n",
    "\n",
    "    for program in programs:\n",
    "        elective_text = program.get(\"elective subjects\", \"\")\n",
    "        if not elective_text:\n",
    "            continue\n",
    "\n",
    "        qualifies = False\n",
    "\n",
    "        # Normalize everything to lowercase for comparison\n",
    "        elective_text_lower = elective_text.lower()\n",
    "        student_electives_lower = [e.lower() for e in student_electives]\n",
    "\n",
    "        if \"three subjects from\" in elective_text_lower:\n",
    "            # Extract subjects from that list\n",
    "            parts = elective_text_lower.split(\"three subjects from:\")[-1]\n",
    "            elective_options = [\n",
    "                item.strip() for item in parts.replace('\\n', ',').split(',')\n",
    "                if item.strip()\n",
    "            ]\n",
    "\n",
    "            match_count = sum(\n",
    "                any(opt in student_subject for opt in elective_options)\n",
    "                for student_subject in student_electives_lower\n",
    "            )\n",
    "\n",
    "            qualifies = match_count >= 3\n",
    "\n",
    "        else:\n",
    "            # Handle specific electives or \"A or B\" type logic\n",
    "            conditions = [cond.strip() for cond in elective_text_lower.split(\", and \")]\n",
    "            qualifies = all(\n",
    "                any(opt.strip() in subject for subject in student_electives_lower)\n",
    "                if \" or \" not in cond else\n",
    "                any(\n",
    "                    any(opt.strip() in subject for subject in student_electives_lower)\n",
    "                    for opt in cond.split(\" or \")\n",
    "                )\n",
    "                for cond in conditions\n",
    "            )\n",
    "\n",
    "        if qualifies:\n",
    "            matched_programs.append({\n",
    "                \"program\": program[\"program\"],\n",
    "                \"college\": program[\"college\"],\n",
    "                \"required_electives\": program[\"elective subjects\"]\n",
    "            })\n",
    "\n",
    "    return matched_programs\n",
    "\n",
    "\n",
    "# Example usage:\n",
    "with open(\"programdata.json\", \"r\", encoding=\"utf-8\") as f:\n",
    "    program_data = json.load(f)\n",
    "\n",
    "student_electives = [\n",
    "    \"Physics\", \"Chemistry\", \"Elective Mathematics\", \"Biology\"\n",
    "]\n",
    "\n",
    "matches = filter_programs_by_electives(student_electives, program_data)\n",
    "\n",
    "# Display results\n",
    "for program in matches:\n",
    "    print(f\"{program['program']} ({program['college']})\")\n",
    "    print(\"Requires:\", program[\"required_electives\"])\n",
    "    print(\"-\" * 40)\n"
   ]
  }
 ],
 "metadata": {
  "kernelspec": {
   "display_name": "base",
   "language": "python",
   "name": "python3"
  },
  "language_info": {
   "codemirror_mode": {
    "name": "ipython",
    "version": 3
   },
   "file_extension": ".py",
   "mimetype": "text/x-python",
   "name": "python",
   "nbconvert_exporter": "python",
   "pygments_lexer": "ipython3",
   "version": "3.11.7"
  }
 },
 "nbformat": 4,
 "nbformat_minor": 2
}
